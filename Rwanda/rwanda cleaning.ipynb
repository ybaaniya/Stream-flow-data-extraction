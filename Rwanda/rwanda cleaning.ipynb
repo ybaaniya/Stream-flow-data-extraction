{
 "cells": [
  {
   "cell_type": "code",
   "execution_count": null,
   "metadata": {},
   "outputs": [],
   "source": [
    "import os\n",
    "import pandas as pd"
   ]
  },
  {
   "cell_type": "markdown",
   "metadata": {},
   "source": [
    "Calculate the daily average for station that has value in sub daily interval"
   ]
  },
  {
   "cell_type": "code",
   "execution_count": null,
   "metadata": {},
   "outputs": [],
   "source": [
    "def process_csv_with_averaging(input_folder, output_folder):\n",
    "    # Create the output folder if it doesn't exist\n",
    "    if not os.path.exists(output_folder):\n",
    "        os.makedirs(output_folder)\n",
    "\n",
    "    # Iterate through all CSV files in the input folder\n",
    "    for file_name in os.listdir(input_folder):\n",
    "        if file_name.endswith('.csv'):\n",
    "            # Construct the full file path\n",
    "            file_path = os.path.join(input_folder, file_name)\n",
    "\n",
    "            # Load the CSV file, skipping the first 8 rows\n",
    "            df = pd.read_csv(file_path, skiprows=8)\n",
    "\n",
    "            # Rename the columns as requested\n",
    "            df.columns = ['Datetime', 'Streamflow (m3/s)']\n",
    "\n",
    "            # Replace blank or non-numeric values with -9999 in the 'Streamflow (m3/s)' column\n",
    "            df['Streamflow (m3/s)'] = pd.to_numeric(df['Streamflow (m3/s)'], errors='coerce').fillna(-9999)\n",
    "\n",
    "            # Convert the 'Datetime' column to a consistent datetime format (YYYY-MM-DD)\n",
    "            df['Datetime'] = pd.to_datetime(df['Datetime'], errors='coerce').dt.strftime('%Y-%m-%d')\n",
    "\n",
    "            # Group by 'Datetime' and take the average of 'Streamflow (m3/s)' for duplicate dates\n",
    "            df_grouped = df.groupby('Datetime', as_index=False).agg({'Streamflow (m3/s)': 'mean'})\n",
    "\n",
    "            # Save the processed file to the output folder\n",
    "            output_file_path = os.path.join(output_folder, file_name)\n",
    "            df_grouped.to_csv(output_file_path, index=False)\n",
    "\n",
    "# Define your input and output folders\n",
    "input_folder = '/Users/yubin/Library/CloudStorage/Box-Box/Bias Correction/Africa/Rwanda/Observed data'\n",
    "output_folder = '/Users/yubin/Library/CloudStorage/Box-Box/Bias Correction/Africa/Rwanda/Hydroserver'\n",
    "\n",
    "# Call the function to process the files\n",
    "process_csv_with_averaging(input_folder, output_folder)"
   ]
  },
  {
   "cell_type": "markdown",
   "metadata": {},
   "source": [
    "Later found out that there are negative streamflow value in the csv file so this will clean it"
   ]
  },
  {
   "cell_type": "code",
   "execution_count": null,
   "metadata": {},
   "outputs": [],
   "source": [
    "input_folder = '/Users/yubin/Library/CloudStorage/Box-Box/Bias Correction/Africa/Rwanda/Hydroserver'\n",
    "# Iterate over each file in the input folder\n",
    "for file_name in os.listdir(input_folder):\n",
    "    if file_name.endswith('.csv'):\n",
    "        file_path = os.path.join(input_folder, file_name)\n",
    "\n",
    "        # Load the CSV file, skipping the first 8 rows\n",
    "        df = pd.read_csv(file_path)\n",
    "        df['Datetime'] = pd.to_datetime(df['Datetime'])\n",
    "\n",
    "        # Remove rows where streamflow is negative\n",
    "        df_filtered = df[df['Streamflow (m3/s)'] >= 0]\n",
    "\n",
    "        # Group by the \"Datetime\" column and calculate the mean streamflow for each day\n",
    "        df_daily_mean = df_filtered.groupby('Datetime').mean().reset_index()\n",
    "\n",
    "        # Create an output file path (you can modify this to avoid overwriting)\n",
    "        output_file_path = os.path.join(input_folder, file_name)\n",
    "        \n",
    "        # Save the grouped data to a new CSV\n",
    "        df_daily_mean.to_csv(output_file_path, index=False)\n",
    "\n",
    "print(\"Processing complete!\")\n",
    "\n",
    "\n"
   ]
  }
 ],
 "metadata": {
  "kernelspec": {
   "display_name": "Python 3",
   "language": "python",
   "name": "python3"
  },
  "language_info": {
   "codemirror_mode": {
    "name": "ipython",
    "version": 3
   },
   "file_extension": ".py",
   "mimetype": "text/x-python",
   "name": "python",
   "nbconvert_exporter": "python",
   "pygments_lexer": "ipython3",
   "version": "3.12.0"
  }
 },
 "nbformat": 4,
 "nbformat_minor": 2
}
