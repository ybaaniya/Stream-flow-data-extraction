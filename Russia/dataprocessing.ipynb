{
 "cells": [
  {
   "cell_type": "code",
   "execution_count": null,
   "metadata": {},
   "outputs": [],
   "source": [
    "import pandas as pd\n",
    "from datetime import datetime\n",
    "import os"
   ]
  },
  {
   "cell_type": "code",
   "execution_count": null,
   "metadata": {},
   "outputs": [],
   "source": [
    "# Load the dataset\n",
    "file_path = 'path to the dataset after converting the tab deliminated txt file to csv from articnet website'\n",
    "data = pd.read_csv(file_path)"
   ]
  },
  {
   "cell_type": "code",
   "execution_count": null,
   "metadata": {},
   "outputs": [],
   "source": [
    "# Define a function to process each code's data\n",
    "def process_code_data(code_value, data):\n",
    "    code_data = data[data['Code'] == code_value]\n",
    "    code_data = code_data.set_index(['Year', 'Day']).reset_index().melt(id_vars=['Year', 'Day'], \n",
    "                                                                        value_vars=['Jan', 'Feb', 'Mar', 'Apr', 'May', 'Jun', 'Jul', 'Aug', 'Sep', 'Oct', 'Nov', 'Dec'], \n",
    "                                                                        var_name='Month', \n",
    "                                                                        value_name='Value')\n",
    "    month_mapping = {\n",
    "        'Jan': '01', 'Feb': '02', 'Mar': '03', 'Apr': '04', \n",
    "        'May': '05', 'Jun': '06', 'Jul': '07', 'Aug': '08', \n",
    "        'Sep': '09', 'Oct': '10', 'Nov': '11', 'Dec': '12'\n",
    "    }\n",
    "    code_data['Month'] = code_data['Month'].map(month_mapping)\n",
    "    \n",
    "    def is_valid_date(year, month, day):\n",
    "        try:\n",
    "            datetime(int(year), int(month), int(day))\n",
    "            return True\n",
    "        except ValueError:\n",
    "            return False\n",
    "\n",
    "    code_data['is_valid'] = code_data.apply(lambda row: is_valid_date(row['Year'], row['Month'], row['Day']), axis=1)\n",
    "    valid_code_data = code_data[code_data['is_valid']]\n",
    "    valid_code_data['Datetime'] = pd.to_datetime(valid_code_data['Year'].astype(str) + '-' + valid_code_data['Month'] + '-' + valid_code_data['Day'].astype(str))\n",
    "    valid_code_data = valid_code_data.drop(columns=['Year', 'Day', 'Month', 'is_valid']).sort_values(by='Datetime')\n",
    "    valid_code_data = valid_code_data[['Datetime', 'Value']]\n",
    "    full_date_range = pd.date_range(start=valid_code_data['Datetime'].min(), end=valid_code_data['Datetime'].max())\n",
    "    full_timeseries = valid_code_data.set_index('Datetime').reindex(full_date_range).fillna(-9999).reset_index()\n",
    "    full_timeseries.columns = ['Datetime', 'Streamflow(m3/s)']\n",
    "    return full_timeseries\n",
    "\n",
    "# Extract unique codes\n",
    "unique_codes = data['Code'].unique()\n",
    "\n",
    "# Process and save each code's data\n",
    "for code in unique_codes:\n",
    "    code_timeseries = process_code_data(code, data)\n",
    "    output_file_path = f'/Users/yubinbaaniya/Library/CloudStorage/Box-Box/Bias Correction/mother Russia/observedprocessed/{code}.csv' # path to save the processed data\n",
    "    code_timeseries.to_csv(output_file_path, index=False)\n",
    "\n",
    "print(\"Data extraction and saving completed.\")\n"
   ]
  },
  {
   "cell_type": "code",
   "execution_count": null,
   "metadata": {},
   "outputs": [],
   "source": [
    "\n",
    "\n",
    "# Specify the directory containing the CSV files\n",
    "directory = '/Users/yubinbaaniya/Library/CloudStorage/Box-Box/Bias Correction/mother Russia/Russia_Hydroserver_Ready/Flow'\n",
    "\n",
    "# Loop through all files in the directory\n",
    "for filename in os.listdir(directory):\n",
    "    if filename.endswith(\".csv\"):\n",
    "        file_path = os.path.join(directory, filename)\n",
    "        \n",
    "        # Read the CSV file\n",
    "        df = pd.read_csv(file_path)\n",
    "        \n",
    "        # Convert the first column to datetime and format it to YYYY-MM-DD\n",
    "        df.iloc[:, 0] = pd.to_datetime(df.iloc[:, 0]).dt.strftime('%Y-%m-%d')\n",
    "        \n",
    "        # Save the processed file back to the same directory or another directory if needed\n",
    "        df.to_csv(file_path, index=False)\n",
    "        print(f\"Processed {filename}\")\n",
    "\n",
    "print(\"All files processed successfully.\")\n"
   ]
  }
 ],
 "metadata": {
  "kernelspec": {
   "display_name": "Python 3",
   "language": "python",
   "name": "python3"
  },
  "language_info": {
   "codemirror_mode": {
    "name": "ipython",
    "version": 3
   },
   "file_extension": ".py",
   "mimetype": "text/x-python",
   "name": "python",
   "nbconvert_exporter": "python",
   "pygments_lexer": "ipython3",
   "version": "3.10.0"
  }
 },
 "nbformat": 4,
 "nbformat_minor": 2
}
